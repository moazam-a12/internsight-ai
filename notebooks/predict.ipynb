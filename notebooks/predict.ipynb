{
 "cells": [
  {
   "cell_type": "code",
   "execution_count": 17,
   "id": "5e697e72-b6da-4cf4-8dac-20e65496b0b8",
   "metadata": {},
   "outputs": [],
   "source": [
    "import pandas as pd\n",
    "import joblib\n",
    "\n",
    "# Load model and scaler\n",
    "#model = joblib.load(\"trained_xgboost_model.pkl\")  # or \"trained_random_forest_model.pkl\"\n",
    "model = joblib.load(\"trained_random_forest_model.pkl\")\n",
    "scaler = joblib.load(\"scaler.pkl\")"
   ]
  },
  {
   "cell_type": "code",
   "execution_count": 19,
   "id": "f02a3203-bec6-4a9c-be53-dd443ff39044",
   "metadata": {},
   "outputs": [],
   "source": [
    "new_data = pd.DataFrame([\n",
    "    [1, 4.6],\n",
    "    [20.1, 1.4],\n",
    "    [11.56, 4.2],\n",
    "    [4.5, 4.8]\n",
    "], columns=[\"Task_Completion_Time_Hrs\", \"Feedback_Rating\"])"
   ]
  },
  {
   "cell_type": "code",
   "execution_count": 21,
   "id": "7155cdf1-efd7-4a8e-84e8-e14165296e81",
   "metadata": {},
   "outputs": [
    {
     "name": "stdout",
     "output_type": "stream",
     "text": [
      "Intern 1: Excel (Score: 0.9100)\n",
      "Intern 2: Struggle (Score: 0.0930)\n",
      "Intern 3: Excel (Score: 0.5992)\n",
      "Intern 4: Excel (Score: 0.8628)\n"
     ]
    }
   ],
   "source": [
    "# Scale the new data\n",
    "new_data_scaled = scaler.transform(new_data)\n",
    "\n",
    "# Predict\n",
    "predictions = model.predict(new_data_scaled)\n",
    "\n",
    "# Map to labels\n",
    "results = [\"Excel\" if p >= 0.5 else \"Struggle\" for p in predictions]\n",
    "\n",
    "# Output\n",
    "for i, (score, label) in enumerate(zip(predictions, results)):\n",
    "    print(f\"Intern {i+1}: {label} (Score: {score:.4f})\")"
   ]
  },
  {
   "cell_type": "code",
   "execution_count": null,
   "id": "3cce83b0-fa26-4458-badb-98b058158ec4",
   "metadata": {},
   "outputs": [],
   "source": []
  }
 ],
 "metadata": {
  "kernelspec": {
   "display_name": "Python [conda env:base] *",
   "language": "python",
   "name": "conda-base-py"
  },
  "language_info": {
   "codemirror_mode": {
    "name": "ipython",
    "version": 3
   },
   "file_extension": ".py",
   "mimetype": "text/x-python",
   "name": "python",
   "nbconvert_exporter": "python",
   "pygments_lexer": "ipython3",
   "version": "3.12.7"
  }
 },
 "nbformat": 4,
 "nbformat_minor": 5
}

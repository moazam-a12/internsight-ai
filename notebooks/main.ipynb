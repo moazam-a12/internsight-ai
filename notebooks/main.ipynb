{
 "cells": [
  {
   "cell_type": "code",
   "execution_count": 1,
   "id": "624ea8be-2812-4d7f-b204-f75286cd2e84",
   "metadata": {},
   "outputs": [],
   "source": [
    "import sys\n",
    "import os\n",
    "\n",
    "# Add your project root to Python path (change this if you move the notebook)\n",
    "sys.path.append(os.path.abspath(\"/Users/moazam_a12/Learning Curve/Vocational Training/Internship/Internee.pk/Tasks/Task 1/Intern-Performance Model\"))\n",
    "\n",
    "# Custom modules\n",
    "from utils.preprocess import load_and_preprocess_data\n",
    "from models.train_model import train_random_forest, train_xgboost"
   ]
  },
  {
   "cell_type": "code",
   "execution_count": 3,
   "id": "cbe7f163-9b58-4045-8cd4-bbdd240db001",
   "metadata": {},
   "outputs": [
    {
     "name": "stdout",
     "output_type": "stream",
     "text": [
      "Scaler saved as 'scaler.pkl'\n"
     ]
    }
   ],
   "source": [
    "# Load & preprocess the dataset\n",
    "filepath = \"data/intern_performance.csv\"  # or the exact path you're using\n",
    "target_column = \"Performance\"  # This must match your CSV header\n",
    "\n",
    "X_train, X_test, y_train, y_test = load_and_preprocess_data(\n",
    "    filepath=filepath,\n",
    "    target_column=target_column\n",
    ")"
   ]
  },
  {
   "cell_type": "code",
   "execution_count": 5,
   "id": "18ece0db-3007-4dc5-a55e-29d5cb66d4e7",
   "metadata": {},
   "outputs": [
    {
     "name": "stdout",
     "output_type": "stream",
     "text": [
      "Training with Random Forest...\n",
      "Random Forest model saved as 'trained_random_forest_model.pkl'\n",
      "\n",
      "Random Forest Results:\n",
      "R2 Score: 0.9829\n",
      "Mean Absolute Error: 0.0216\n",
      "Mean Squared Error: 0.0007\n",
      "Thresholded Accuracy: 0.9725\n"
     ]
    }
   ],
   "source": [
    "# Train Random Forest Regressor\n",
    "rf_model, rf_metrics = train_random_forest(X_train, y_train, X_test, y_test)\n",
    "\n",
    "print(\"\\nRandom Forest Results:\")\n",
    "for metric, value in rf_metrics.items():\n",
    "    print(f\"{metric}: {value:.4f}\")"
   ]
  },
  {
   "cell_type": "code",
   "execution_count": 7,
   "id": "ae79e480-8078-436f-b9d5-aeb0230d8fa5",
   "metadata": {},
   "outputs": [
    {
     "name": "stdout",
     "output_type": "stream",
     "text": [
      "Training with XGBoost...\n",
      "XGBoost model saved as 'trained_xgboost_model.pkl'\n",
      "\n",
      "XGBoost Results:\n",
      "R2 Score: 0.9971\n",
      "Mean Absolute Error: 0.0085\n",
      "Mean Squared Error: 0.0001\n",
      "Thresholded Accuracy: 0.9842\n"
     ]
    }
   ],
   "source": [
    "# Train XGBoost Regressor (Uncomment if needed)\n",
    "xgb_model, xgb_metrics = train_xgboost(X_train, y_train, X_test, y_test)\n",
    "\n",
    "print(\"\\nXGBoost Results:\")\n",
    "for metric, value in xgb_metrics.items():\n",
    "    print(f\"{metric}: {value:.4f}\")"
   ]
  },
  {
   "cell_type": "code",
   "execution_count": null,
   "id": "86c81d8d-74e5-480c-b7c1-fb56ae393bac",
   "metadata": {},
   "outputs": [],
   "source": []
  }
 ],
 "metadata": {
  "kernelspec": {
   "display_name": "Python [conda env:base] *",
   "language": "python",
   "name": "conda-base-py"
  },
  "language_info": {
   "codemirror_mode": {
    "name": "ipython",
    "version": 3
   },
   "file_extension": ".py",
   "mimetype": "text/x-python",
   "name": "python",
   "nbconvert_exporter": "python",
   "pygments_lexer": "ipython3",
   "version": "3.12.7"
  }
 },
 "nbformat": 4,
 "nbformat_minor": 5
}
